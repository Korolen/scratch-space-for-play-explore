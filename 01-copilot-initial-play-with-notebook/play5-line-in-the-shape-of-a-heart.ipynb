{
 "cells": [
  {
   "cell_type": "code",
   "execution_count": 1,
   "outputs": [
    {
     "name": "stderr",
     "output_type": "stream",
     "text": [
      "qt.qpa.window: <QNSWindow: 0x169921e10; contentView=<QNSView: 0x169921a00; QCocoaWindow(0x6000013314a0, window=QWidgetWindow(0x600000005500, name=\"QMainWindowClassWindow\"))>> has active key-value observers (KVO)! These will stop working now that the window is recreated, and will result in exceptions when the observers are removed. Break in QCocoaWindow::recreateWindowIfNeeded to debug.\n"
     ]
    }
   ],
   "source": [
    "def heart_shaped_surface(x, y, z):\n",
    "    return (x ** 2 + (9 / 4) * y ** 2 + z ** 2 - 1) ** 3 - x ** 2 * z ** 3 - (9 / 80) * y ** 2 * z ** 3\n",
    "\n",
    "# import library np\n",
    "import numpy as np\n",
    "\n",
    "# create a grid of points\n",
    "x, y, z = np.meshgrid(np.linspace(-2, 2, 200), np.linspace(-2, 2, 200), np.linspace(-2, 2, 200))\n",
    "\n",
    "# apply the function to each point\n",
    "d = heart_shaped_surface(x, y, z)\n",
    "\n",
    "# import library to plot the surface\n",
    "from mayavi import mlab\n",
    "\n",
    "# plot the surface\n",
    "mlab.contour3d(d, contours=[0], transparent=True, opacity=0.5)\n",
    "\n",
    "# show the plot\n",
    "mlab.show()\n"
   ],
   "metadata": {
    "collapsed": false,
    "pycharm": {
     "name": "#%%\n"
    }
   }
  },
  {
   "cell_type": "code",
   "execution_count": null,
   "outputs": [],
   "source": [],
   "metadata": {
    "collapsed": false,
    "pycharm": {
     "name": "#%%\n"
    }
   }
  }
 ],
 "metadata": {
  "kernelspec": {
   "display_name": "Python 3",
   "language": "python",
   "name": "python3"
  },
  "language_info": {
   "codemirror_mode": {
    "name": "ipython",
    "version": 2
   },
   "file_extension": ".py",
   "mimetype": "text/x-python",
   "name": "python",
   "nbconvert_exporter": "python",
   "pygments_lexer": "ipython2",
   "version": "2.7.6"
  }
 },
 "nbformat": 4,
 "nbformat_minor": 0
}