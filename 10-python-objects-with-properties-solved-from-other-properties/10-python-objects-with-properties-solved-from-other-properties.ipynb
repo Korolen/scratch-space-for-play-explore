{
 "cells": [
  {
   "cell_type": "code",
   "execution_count": null,
   "metadata": {},
   "outputs": [
    {
     "name": "stdout",
     "output_type": "stream",
     "text": [
      "Exception caught: 'A' object has no attribute 'foo'\n",
      "Exception caught: 'A' object has no attribute 'bar'\n"
     ]
    },
    {
     "ename": "TypeError",
     "evalue": "foo() takes 0 positional arguments but 1 was given",
     "output_type": "error",
     "traceback": [
      "\u001b[0;31m---------------------------------------------------------------------------\u001b[0m",
      "\u001b[0;31mTypeError\u001b[0m                                 Traceback (most recent call last)",
      "Cell \u001b[0;32mIn [137], line 46\u001b[0m\n\u001b[1;32m     42\u001b[0m \u001b[38;5;129m@add_method\u001b[39m(A)\n\u001b[1;32m     43\u001b[0m \u001b[38;5;28;01mdef\u001b[39;00m \u001b[38;5;21mbar\u001b[39m(s):\n\u001b[1;32m     44\u001b[0m     \u001b[38;5;28mprint\u001b[39m(\u001b[38;5;124mf\u001b[39m\u001b[38;5;124m'\u001b[39m\u001b[38;5;124mMessage: \u001b[39m\u001b[38;5;132;01m{\u001b[39;00ms\u001b[38;5;132;01m}\u001b[39;00m\u001b[38;5;124m'\u001b[39m)\n\u001b[0;32m---> 46\u001b[0m a\u001b[38;5;241m.\u001b[39mfoo()\n\u001b[1;32m     47\u001b[0m a\u001b[38;5;241m.\u001b[39mbar(\u001b[38;5;124m'\u001b[39m\u001b[38;5;124mThe quick brown fox jumped over the lazy dog.\u001b[39m\u001b[38;5;124m'\u001b[39m)\n\u001b[1;32m     48\u001b[0m \u001b[38;5;28mprint\u001b[39m(a\u001b[38;5;241m.\u001b[39mfoo) \u001b[38;5;66;03m# <bound method foo of <__main__.A object at {ADDRESS}>>\u001b[39;00m\n",
      "Cell \u001b[0;32mIn [137], line 10\u001b[0m, in \u001b[0;36madd_method.<locals>.decorator.<locals>.wrapper\u001b[0;34m(*args, **kwargs)\u001b[0m\n\u001b[1;32m      8\u001b[0m \u001b[38;5;129m@wraps\u001b[39m(func)\n\u001b[1;32m      9\u001b[0m \u001b[38;5;28;01mdef\u001b[39;00m \u001b[38;5;21mwrapper\u001b[39m(\u001b[38;5;241m*\u001b[39margs, \u001b[38;5;241m*\u001b[39m\u001b[38;5;241m*\u001b[39mkwargs):\n\u001b[0;32m---> 10\u001b[0m     \u001b[38;5;28;01mreturn\u001b[39;00m \u001b[43mfunc\u001b[49m\u001b[43m(\u001b[49m\u001b[38;5;241;43m*\u001b[39;49m\u001b[43margs\u001b[49m\u001b[43m,\u001b[49m\u001b[43m \u001b[49m\u001b[38;5;241;43m*\u001b[39;49m\u001b[38;5;241;43m*\u001b[39;49m\u001b[43mkwargs\u001b[49m\u001b[43m)\u001b[49m\n",
      "\u001b[0;31mTypeError\u001b[0m: foo() takes 0 positional arguments but 1 was given"
     ]
    }
   ],
   "source": [
    "from functools import wraps # This convenience func preserves name and docstring\n",
    "\n",
    "class A:\n",
    "    pass\n",
    "\n",
    "def add_method(cls):\n",
    "    def decorator(func):\n",
    "        @wraps(func)\n",
    "        def wrapper(*args, **kwargs):\n",
    "            return func(*args, **kwargs)\n",
    "        setattr(cls, func.__name__, wrapper)\n",
    "        # Note we are not binding func, but wrapper which accepts self but does exactly the same as func\n",
    "        return func # returning func means func can still be used normally\n",
    "    return decorator\n",
    "\n",
    "# No trickery. Class A has no methods nor variables.\n",
    "a = A()\n",
    "try:\n",
    "    a.foo()\n",
    "except AttributeError as ae:\n",
    "    print(f'Exception caught: {ae}') # 'A' object has no attribute 'foo'\n",
    "\n",
    "try:\n",
    "    a.bar('The quick brown fox jumped over the lazy dog.')\n",
    "except AttributeError as ae:\n",
    "    print(f'Exception caught: {ae}') # 'A' object has no attribute 'bar'\n",
    "\n",
    "# Non-decorator way (note the function must accept self)\n",
    "# def foo(self):\n",
    "#     print('hello world!')\n",
    "# setattr(A, 'foo', foo)\n",
    "\n",
    "# def bar(self, s):\n",
    "#     print(f'Message: {s}')\n",
    "# setattr(A, 'bar', bar)\n",
    "\n",
    "# Decorator can be written to take normal functions and make them methods\n",
    "@add_method(A)\n",
    "def foo():\n",
    "    print('hello world!')\n",
    "\n",
    "@add_method(A)\n",
    "def bar(s):\n",
    "    print(f'Message: {s}')\n",
    "\n",
    "a.foo()\n",
    "a.bar('The quick brown fox jumped over the lazy dog.')\n",
    "print(a.foo) # <bound method foo of <__main__.A object at {ADDRESS}>>\n",
    "print(a.bar) # <bound method bar of <__main__.A object at {ADDRESS}>>\n",
    "\n",
    "# foo and bar are still usable as functions\n",
    "foo()\n",
    "bar('The quick brown fox jumped over the lazy dog.')\n",
    "print(foo) # <function foo at {ADDRESS}>\n",
    "print(bar) # <function bar at {ADDRESS}>"
   ]
  },
  {
   "cell_type": "code",
   "execution_count": null,
   "metadata": {},
   "outputs": [],
   "source": [
    "import random\n",
    "\n",
    "class Fish:\n",
    "    def __init__(self, pond, first_name, last_name=\"Fish\", skeleton=\"bone\", eyelids=False):\n",
    "        self.pond = pond\n",
    "        self.pond.add_thing(self)\n",
    "        self.first_name = first_name\n",
    "        self.last_name = last_name\n",
    "        self.skeleton = skeleton\n",
    "        self.eyelids = eyelids\n",
    "\n",
    "        self.protected_by = None\n",
    "\n",
    "    def swim(self):\n",
    "        print(\"The fish is swimming.\")\n",
    "\n",
    "    def swim_backwards(self):\n",
    "        print(\"The fish can swim backwards.\")\n",
    "\n",
    "    def full_name(self):\n",
    "        return f\"{self.first_name} {self.last_name}\"\n",
    "\n",
    "#iterable\n",
    "class Pond:\n",
    "    def __init__(self, contents=[]):\n",
    "        self.contents = contents\n",
    "        # contents can be objects besides Fish\n",
    "\n",
    "    def add_thing(self, thing):\n",
    "        self.contents.append(thing)\n",
    "\n",
    "    def make_fish_swim(self):\n",
    "        for potential_fish in self.contents:\n",
    "            if isinstance(potential_fish, Fish):\n",
    "                potential_fish.swim()\n",
    "\n",
    "    # iterable\n",
    "    def __iter__(self):\n",
    "        return iter(self.contents)\n",
    "\n",
    "    # iterator\n",
    "    def __next__(self):\n",
    "        return next(self.contents)\n",
    "\n",
    "    # generator\n",
    "    def __getitem__(self, index):\n",
    "        return self.contents[index]\n",
    "\n",
    "    # context manager\n",
    "    def __enter__(self):\n",
    "        return self\n",
    "\n",
    "    def __exit__(self, exc_type, exc_value, traceback):\n",
    "        pass\n",
    "\n",
    "    # callable\n",
    "    def __call__(self, *args, **kwargs):\n",
    "        pass\n",
    "\n",
    "    # string representation\n",
    "    def __str__(self):\n",
    "        return f\"Pond with {len(self.contents)} things in it.\"\n",
    "\n",
    "    # length\n",
    "    def __len__(self):\n",
    "        return len(self.contents)\n",
    "\n",
    "\n",
    "class Clownfish(Fish):\n",
    "    def live_with_anemone(self):\n",
    "        print(\"The clownfish is coexisting with sea anemone.\")\n",
    "        print(\"The clownfish is protected by the sea anemone.\")\n",
    "        print(\"The sea anemone is protected by the clownfish.\")\n",
    "        print(\"They are protected each other.\")\n",
    "\n",
    "    def swim_backwards(self):\n",
    "        print(\"The clownfish can't swim backwards, but can sink backwards.\")\n",
    "\n",
    "class Shark(Fish):\n",
    "    def __init__(self, pond, first_name, last_name=\"Shark\", skeleton=\"cartilage\", eyelids=False):\n",
    "        super().__init__(pond, first_name, last_name, skeleton, eyelids)\n",
    "\n",
    "    def swim_backwards(self):\n",
    "        print(\"Hark, the shark doth embark on a unabashedly backwards journey.\")\n",
    "\n",
    "    def swim(self):\n",
    "        print(\"The shark is on the hunt.\")\n"
   ]
  },
  {
   "cell_type": "code",
   "execution_count": null,
   "metadata": {},
   "outputs": [
    {
     "name": "stdout",
     "output_type": "stream",
     "text": [
      "There once was a wonderful little pond in the woods.\n",
      "It was a beautiful pond, with a lovely little stream trickling through it.\n",
      "The pond had a lot of little fish in it.\n",
      "But one day, a terrible bully of a fish named Bruce showed up.\n",
      "Bruce was a mean old shark, and he bullied all the other fish in the pond.\n",
      "He chased them all around, and made their lives miserable.\n",
      "The poor little fish were so scared of Bruce that they didn't even dare to leave the safety of the pond.\n",
      "But one day, a little clownfish named Nemo got tired of being bullied.\n",
      "So he gathered up all his courage, and swam out of the pond.\n",
      "He swam all the way to the big ocean, and found a sea anemone to live with.\n",
      "The sea anemone protected Nemo from all the big mean sharks.\n",
      "And Nemo protected the sea anemone from the mean bully fish.\n",
      "And they lived happily ever after.\n",
      "The End.\n"
     ]
    }
   ],
   "source": [
    "print(\"There once was a wonderful little pond in the woods.\")\n",
    "print(\"It was a beautiful pond, with a lovely little stream trickling through it.\")\n",
    "print(\"The pond had a lot of little fish in it.\")\n",
    "print(\"But one day, a terrible bully of a fish named Bruce showed up.\")\n",
    "print(\"Bruce was a mean old shark, and he bullied all the other fish in the pond.\")\n",
    "print(\"He chased them all around, and made their lives miserable.\")\n",
    "print(\"The poor little fish were so scared of Bruce that they didn't even dare to leave the safety of the pond.\")\n",
    "print(\"But one day, a little clownfish named Nemo got tired of being bullied.\")\n",
    "print(\"So he gathered up all his courage, and swam out of the pond.\")\n",
    "print(\"He swam all the way to the big ocean, and found a sea anemone to live with.\")\n",
    "print(\"The sea anemone protected Nemo from all the big mean sharks.\")\n",
    "print(\"And Nemo protected the sea anemone from the mean bully fish.\")\n",
    "print(\"And they lived happily ever after.\")\n",
    "print(\"The End.\")\n",
    "\n",
    "pond = Pond()"
   ]
  },
  {
   "cell_type": "code",
   "execution_count": null,
   "metadata": {},
   "outputs": [
    {
     "name": "stdout",
     "output_type": "stream",
     "text": [
      "The fish's name is Jeff Fish.\n",
      "The fish is swimming.\n",
      "The clownfish can't swim backwards, but can sink backwards.\n",
      "The clownfish is coexisting with sea anemone.\n",
      "The clownfish is protected by the sea anemone.\n",
      "The sea anemone is protected by the clownfish.\n",
      "They are protected each other.\n",
      "Jeff was a clownfish, and he lived in a little pond.\n"
     ]
    }
   ],
   "source": [
    "jeff = Clownfish(pond, \"Jeff\")\n",
    "print(\"The fish's name is \" + jeff.full_name() + \".\")\n",
    "jeff.swim()\n",
    "jeff.swim_backwards()\n",
    "jeff.live_with_anemone()\n",
    "\n",
    "print(\"Jeff was a clownfish, and he lived in a little pond.\")"
   ]
  },
  {
   "cell_type": "code",
   "execution_count": null,
   "metadata": {},
   "outputs": [
    {
     "name": "stdout",
     "output_type": "stream",
     "text": [
      "The fish's name is Jake Shark.\n",
      "The shark is on the hunt.\n",
      "Hark, the shark doth embark on a unabashedly backwards journey.\n",
      "Jake was a shark, and he lived in a big ocean.\n"
     ]
    }
   ],
   "source": [
    "jake = Shark(pond, \"Jake\")\n",
    "print(\"The fish's name is \" + jake.full_name() + \".\")\n",
    "jake.swim()\n",
    "jake.swim_backwards()\n",
    "\n",
    "print(\"Jake was a shark, and he lived in a big ocean.\")"
   ]
  },
  {
   "cell_type": "code",
   "execution_count": null,
   "metadata": {},
   "outputs": [
    {
     "name": "stdout",
     "output_type": "stream",
     "text": [
      "The fish are in a pond.\n",
      "The fish is swimming.\n",
      "The shark is on the hunt.\n"
     ]
    }
   ],
   "source": [
    "print(\"The fish are in a pond.\")\n",
    "# pond = Pond([jeff, jake])\n",
    "pond.make_fish_swim()"
   ]
  },
  {
   "cell_type": "code",
   "execution_count": null,
   "metadata": {},
   "outputs": [],
   "source": [
    "class Coral:\n",
    "    # static variable to store chance fish finds an individual coral\n",
    "    chance_of_finding_coral_n0 = 0.75\n",
    "    # halflife of chance of finding coral per additional fish being protected\n",
    "    chance_of_finding_coral_halflife = 1\n",
    "\n",
    "    # def __int__(self):\n",
    "    # print(\"Coral is a colony of polyps.\")\n",
    "    def __init__(self, color=\"pink\"):\n",
    "        self.protecting = []\n",
    "        self.color = color\n",
    "\n",
    "    def is_found(self, fish):\n",
    "        # chance of finding coral is halved for each additional fish protecting it\n",
    "        chance_of_finding_coral = Coral.chance_of_finding_coral_n0 / 2 ** len(self.protecting)\n",
    "        if random.random() < chance_of_finding_coral:\n",
    "            print(f\"{fish.first_name} found a {self.color} coral!\")\n",
    "            return True\n",
    "        else:\n",
    "            print(f\"{fish.first_name} did not find a {self.color} coral.\")\n",
    "            return False\n",
    "\n",
    "    def community(self):\n",
    "        print(\"Coral lives in a community.\")\n",
    "        print(f\"There are %s corals in the community.\" % len(self.reef.corals))\n",
    "\n",
    "    def protect_clownfish(self, clownfish):\n",
    "        # ensure that the clownfish is an instance of the Clownfish class\n",
    "        if isinstance(clownfish, Clownfish):\n",
    "            print(f\"The coral is protecting the clownfish {clownfish.first_name}.\")\n",
    "            self.protecting.append(clownfish)\n",
    "            clownfish.protected_by = self\n",
    "            self.describe_protecting_who()\n",
    "        else:\n",
    "            print(\"This is not a clownfish.\")\n",
    "\n",
    "    def describe_protecting_who(self):\n",
    "        print(\"The coral is now protecting %s clownfish.\" % len(self.protecting))\n",
    "        # comma separated, with commas and an \"and\" if there are more than 2\n",
    "        msg = \"Their name is %s.\"\n",
    "        if len(self.protecting) > 1:\n",
    "            msg = msg.replace(\"is\", \"are\")\n",
    "            msg = msg.replace(\"name\", \"names\")\n",
    "        if len(self.protecting) == 1:\n",
    "            print(msg % self.protecting[0].first_name)\n",
    "        elif len(self.protecting) == 2:\n",
    "            print(msg % \" and \".join([fish.first_name for fish in self.protecting]))\n",
    "        else:\n",
    "            print(msg % (\", \".join([fish.first_name for fish in self.protecting[:-1]]) + \", and \" + self.protecting[-1].first_name))\n",
    "\n",
    "@add_method(Clownfish)\n",
    "def try_to_find_coral(self):\n",
    "    # if already protected,\n",
    "    if self.protected_by:\n",
    "        print(f\"{self.first_name} is already protected by a coral.\")\n",
    "        return\n",
    "\n",
    "    # get the coral reef from self.pond.contents\n",
    "    for thing in self.pond:\n",
    "        if isinstance(thing, CoralReef):\n",
    "            coral_reef = thing\n",
    "            break\n",
    "    else:\n",
    "        print(\"There is no coral reef in this pond.\")\n",
    "        return\n",
    "\n",
    "    print(f\"{self.first_name} is looking for a coral.\")\n",
    "    found_coral = False\n",
    "    for coral in coral_reef:\n",
    "        if coral.is_found(self):\n",
    "            found_coral = True\n",
    "            coral.protect_clownfish(self)\n",
    "            break\n",
    "    if not found_coral:\n",
    "        print(f\"{self.first_name} did not find a coral.\")\n",
    "        return False\n",
    "    return True\n",
    "\n",
    "\n",
    "class CoralReef:\n",
    "    def __init__(self, corals=[]):\n",
    "        self.corals = corals\n",
    "\n",
    "    def are_any_corals_protecting_clownfish(self):\n",
    "        for coral in self.corals:\n",
    "            if len(coral.protecting) > 0:\n",
    "                return True\n",
    "        return False\n",
    "\n",
    "    # make it iterable\n",
    "    def __iter__(self):\n",
    "        return iter(self.corals)"
   ]
  },
  {
   "cell_type": "code",
   "execution_count": null,
   "metadata": {},
   "outputs": [
    {
     "name": "stdout",
     "output_type": "stream",
     "text": [
      "There are several corals of different colors nearby, in a coral reef.\n"
     ]
    }
   ],
   "source": [
    "print(\"There are several corals of different colors nearby, in a coral reef.\")\n",
    "coral_reef = CoralReef()\n",
    "coral_reef.corals = [Coral(\"pink\"), Coral(\"orange\"), Coral(\"yellow\")]\n",
    "pond.add_thing(coral_reef)\n",
    "if coral_reef.are_any_corals_protecting_clownfish():\n",
    "    print(\"They are protecting the clownfish in the pond.\")"
   ]
  },
  {
   "cell_type": "code",
   "execution_count": null,
   "metadata": {},
   "outputs": [
    {
     "name": "stdout",
     "output_type": "stream",
     "text": [
      "The clownfish are trying to find the corals.\n",
      "Jeff is looking for a coral.\n",
      "Jeff found a pink coral!\n",
      "The coral is protecting the clownfish Jeff.\n",
      "The coral is now protecting 1 clownfish.\n",
      "Their name is Jeff.\n",
      "Jake is a naive shark, and he doesn't know how to look for corals yet.\n"
     ]
    }
   ],
   "source": [
    "print(\"The clownfish are trying to find the corals.\")\n",
    "jeff.try_to_find_coral()\n",
    "try:\n",
    "    jake.try_to_find_coral()\n",
    "except AttributeError:\n",
    "    print(\"Jake is a naive shark, and he doesn't know how to look for corals yet.\")"
   ]
  },
  {
   "cell_type": "code",
   "execution_count": null,
   "metadata": {},
   "outputs": [
    {
     "name": "stdout",
     "output_type": "stream",
     "text": [
      "4 more fish swim into the pond. They have very strange and funny names.\n",
      "The pond is now pretty full.\n",
      "The fish are trying to find corals.\n",
      "Jeff is already protected by a coral.\n",
      "Dory is looking for a coral.\n",
      "Dory found a pink coral!\n",
      "The coral is protecting the clownfish Dory.\n",
      "The coral is now protecting 2 clownfish.\n",
      "Their names are Jeff and Dory.\n",
      "Nemo is looking for a coral.\n",
      "Nemo found a pink coral!\n",
      "The coral is protecting the clownfish Nemo.\n",
      "The coral is now protecting 3 clownfish.\n",
      "Their names are Jeff, Dory, and Nemo.\n",
      "Marlin is looking for a coral.\n",
      "Marlin did not find a pink coral.\n",
      "Marlin found a orange coral!\n",
      "The coral is protecting the clownfish Marlin.\n",
      "The coral is now protecting 1 clownfish.\n",
      "Their name is Marlin.\n"
     ]
    },
    {
     "data": {
      "text/plain": "True"
     },
     "execution_count": null,
     "metadata": {},
     "output_type": "execute_result"
    }
   ],
   "source": [
    "print(\"4 more fish swim into the pond. They have very strange and funny names.\")\n",
    "\n",
    "dory = Clownfish(pond, \"Dory\")\n",
    "nemo = Clownfish(pond, \"Nemo\")\n",
    "marlin = Clownfish(pond, \"Marlin\")\n",
    "bruce = Shark(pond, \"Bruce\")\n",
    "\n",
    "print(\"The pond is now pretty full.\")\n",
    "print(\"The fish are trying to find corals.\")\n",
    "# class Shark(Fish):\n",
    "#     def __init__(self, pond, first_name, last_name=\"Shark\", skeleton=\"cartilage\", eyelids=False):\n",
    "#         super().__init__(pond, first_name, last_name, skeleton, eyelids)\n",
    "#\n",
    "#     def swim_backwards(self):\n",
    "#         print(\"Hark, the shark doth embark on a unabashedly backwards journey.\")\n",
    "#\n",
    "#     def swim(self):\n",
    "#         print(\"The shark is on the hunt.\")\n",
    "\n",
    "# Remember, sharks do not know how to try to find coral.\n",
    "jeff.try_to_find_coral()\n",
    "dory.try_to_find_coral()\n",
    "nemo.try_to_find_coral()\n",
    "marlin.try_to_find_coral()\n"
   ]
  },
  {
   "cell_type": "code",
   "execution_count": null,
   "metadata": {},
   "outputs": [
    {
     "name": "stdout",
     "output_type": "stream",
     "text": [
      "3 more fish enter the pond. Their names sound like a burp sounds.\n"
     ]
    }
   ],
   "source": [
    "print(\"3 more fish enter the pond. Their names sound like a burp sounds.\")\n",
    "\n",
    "bubbles = Clownfish(pond, \"Bubbles\")\n",
    "gill = Clownfish(pond, \"Gill\")\n",
    "bloat = Shark(pond, \"Bloat\")"
   ]
  },
  {
   "cell_type": "code",
   "execution_count": null,
   "metadata": {},
   "outputs": [
    {
     "name": "stdout",
     "output_type": "stream",
     "text": [
      "All the fish in the pond go looking for corals.\n",
      "Jeff is already protected by a coral.\n",
      "Dory is already protected by a coral.\n",
      "Nemo is already protected by a coral.\n",
      "Marlin is already protected by a coral.\n",
      "Bubbles is looking for a coral.\n",
      "Bubbles did not find a pink coral.\n",
      "Bubbles did not find a orange coral.\n",
      "Bubbles did not find a yellow coral.\n",
      "Bubbles did not find a coral.\n",
      "Gill is looking for a coral.\n",
      "Gill did not find a pink coral.\n",
      "Gill found a orange coral!\n",
      "The coral is protecting the clownfish Gill.\n",
      "The coral is now protecting 2 clownfish.\n",
      "Their names are Marlin and Gill.\n"
     ]
    }
   ],
   "source": [
    "print(\"All the fish in the pond go looking for corals.\")\n",
    "for potential_fish in pond:\n",
    "    if isinstance(potential_fish, Clownfish):\n",
    "        potential_fish.try_to_find_coral()\n"
   ]
  },
  {
   "cell_type": "code",
   "execution_count": null,
   "metadata": {},
   "outputs": [
    {
     "name": "stdout",
     "output_type": "stream",
     "text": [
      "Here is a list of all the corals and who they are protecting.\n",
      "The coral is now protecting 3 clownfish.\n",
      "Their names are Jeff, Dory, and Nemo.\n",
      "The coral is now protecting 2 clownfish.\n",
      "Their names are Marlin and Gill.\n",
      "The coral is now protecting 0 clownfish.\n"
     ]
    },
    {
     "ename": "IndexError",
     "evalue": "list index out of range",
     "output_type": "error",
     "traceback": [
      "\u001b[0;31m---------------------------------------------------------------------------\u001b[0m",
      "\u001b[0;31mIndexError\u001b[0m                                Traceback (most recent call last)",
      "Cell \u001b[0;32mIn [149], line 3\u001b[0m\n\u001b[1;32m      1\u001b[0m \u001b[38;5;28mprint\u001b[39m(\u001b[38;5;124m\"\u001b[39m\u001b[38;5;124mHere is a list of all the corals and who they are protecting.\u001b[39m\u001b[38;5;124m\"\u001b[39m)\n\u001b[1;32m      2\u001b[0m \u001b[38;5;28;01mfor\u001b[39;00m coral \u001b[38;5;129;01min\u001b[39;00m coral_reef:\n\u001b[0;32m----> 3\u001b[0m     coral\u001b[38;5;241m.\u001b[39mdescribe_protecting_who()\n",
      "Cell \u001b[0;32mIn [143], line 49\u001b[0m, in \u001b[0;36mCoral.describe_protecting_who\u001b[0;34m(self)\u001b[0m\n\u001b[1;32m     47\u001b[0m     \u001b[38;5;28mprint\u001b[39m(msg \u001b[38;5;241m%\u001b[39m \u001b[38;5;124m\"\u001b[39m\u001b[38;5;124m and \u001b[39m\u001b[38;5;124m\"\u001b[39m\u001b[38;5;241m.\u001b[39mjoin([fish\u001b[38;5;241m.\u001b[39mfirst_name \u001b[38;5;28;01mfor\u001b[39;00m fish \u001b[38;5;129;01min\u001b[39;00m \u001b[38;5;28mself\u001b[39m\u001b[38;5;241m.\u001b[39mprotecting]))\n\u001b[1;32m     48\u001b[0m \u001b[38;5;28;01melse\u001b[39;00m:\n\u001b[0;32m---> 49\u001b[0m     \u001b[38;5;28mprint\u001b[39m(msg \u001b[38;5;241m%\u001b[39m (\u001b[38;5;124m\"\u001b[39m\u001b[38;5;124m, \u001b[39m\u001b[38;5;124m\"\u001b[39m\u001b[38;5;241m.\u001b[39mjoin([fish\u001b[38;5;241m.\u001b[39mfirst_name \u001b[38;5;28;01mfor\u001b[39;00m fish \u001b[38;5;129;01min\u001b[39;00m \u001b[38;5;28mself\u001b[39m\u001b[38;5;241m.\u001b[39mprotecting[:\u001b[38;5;241m-\u001b[39m\u001b[38;5;241m1\u001b[39m]]) \u001b[38;5;241m+\u001b[39m \u001b[38;5;124m\"\u001b[39m\u001b[38;5;124m, and \u001b[39m\u001b[38;5;124m\"\u001b[39m \u001b[38;5;241m+\u001b[39m \u001b[38;5;28;43mself\u001b[39;49m\u001b[38;5;241;43m.\u001b[39;49m\u001b[43mprotecting\u001b[49m\u001b[43m[\u001b[49m\u001b[38;5;241;43m-\u001b[39;49m\u001b[38;5;241;43m1\u001b[39;49m\u001b[43m]\u001b[49m\u001b[38;5;241m.\u001b[39mfirst_name))\n",
      "\u001b[0;31mIndexError\u001b[0m: list index out of range"
     ]
    }
   ],
   "source": [
    "print(\"Here is a list of all the corals and who they are protecting.\")\n",
    "for coral in coral_reef:\n",
    "    coral.describe_protecting_who()"
   ]
  },
  {
   "cell_type": "code",
   "execution_count": null,
   "metadata": {},
   "outputs": [],
   "source": []
  },
  {
   "cell_type": "code",
   "execution_count": null,
   "metadata": {},
   "outputs": [],
   "source": []
  },
  {
   "cell_type": "code",
   "execution_count": null,
   "metadata": {},
   "outputs": [],
   "source": []
  },
  {
   "cell_type": "code",
   "execution_count": null,
   "metadata": {},
   "outputs": [],
   "source": []
  },
  {
   "cell_type": "code",
   "execution_count": null,
   "metadata": {},
   "outputs": [],
   "source": []
  },
  {
   "cell_type": "code",
   "execution_count": null,
   "metadata": {},
   "outputs": [],
   "source": []
  },
  {
   "cell_type": "code",
   "execution_count": null,
   "metadata": {},
   "outputs": [],
   "source": []
  },
  {
   "cell_type": "code",
   "execution_count": null,
   "metadata": {},
   "outputs": [],
   "source": []
  },
  {
   "cell_type": "code",
   "execution_count": null,
   "metadata": {},
   "outputs": [],
   "source": []
  },
  {
   "cell_type": "code",
   "execution_count": null,
   "metadata": {},
   "outputs": [],
   "source": []
  },
  {
   "cell_type": "code",
   "execution_count": null,
   "metadata": {},
   "outputs": [],
   "source": []
  },
  {
   "cell_type": "code",
   "execution_count": null,
   "metadata": {},
   "outputs": [],
   "source": []
  }
 ],
 "metadata": {
  "kernelspec": {
   "display_name": "Python 3 (ipykernel)",
   "language": "python",
   "name": "python3"
  }
 },
 "nbformat": 4,
 "nbformat_minor": 0
}
