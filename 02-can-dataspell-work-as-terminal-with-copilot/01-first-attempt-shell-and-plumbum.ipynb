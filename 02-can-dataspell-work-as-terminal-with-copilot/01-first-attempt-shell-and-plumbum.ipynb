{
 "cells": [
  {
   "cell_type": "code",
   "execution_count": null,
   "metadata": {},
   "outputs": [],
   "source": [
    "# import library to work with shell commands\n",
    "\n",
    "\n",
    "# function that does a shell command\n"
   ]
  },
  {
   "cell_type": "code",
   "execution_count": null,
   "metadata": {},
   "outputs": [],
   "source": [
    "# import library to work with shell commands\n",
    "import subprocess\n",
    "\n",
    "# function that does a shell command with any arguments\n",
    "def shell_command(command, arguments):\n",
    "    # create a list with the command and the arguments\n",
    "    command_list = [command] + arguments\n",
    "    # run the command and get the output\n",
    "    output = subprocess.run(command_list, capture_output=True)\n",
    "    # return the output\n",
    "    return output\n",
    "\n",
    "# cd to the directory where this file is\n",
    "shell_command('cd', [os.path.dirname(os.path.abspath(__file__))])\n",
    "\n",
    "# recursively make directories a/b/c\n",
    "shell_command('mkdir', ['-p', 'a/b/c'])\n"
   ]
  },
  {
   "cell_type": "code",
   "execution_count": null,
   "metadata": {},
   "outputs": [],
   "source": [
    "# import library plumbum as pb\n",
    "import plumbum as pb\n",
    "\n",
    "# cd to the directory where this file is\n",
    "pb.local.cwd.chdir(os.path.dirname(os.path.abspath(__file__)))\n",
    "\n",
    "# recursively make directories a/b/c\n",
    "pb.local.path('a/b/c').mkdir()\n"
   ]
  },
  {
   "cell_type": "markdown",
   "metadata": {},
   "source": [
    "Wow, this all works so, so well. I just need to understand EXACTLY what context it has available to it, and how it pays attention to it."
   ]
  },
  {
   "cell_type": "markdown",
   "metadata": {},
   "source": []
  },
  {
   "cell_type": "markdown",
   "metadata": {},
   "source": []
  }
 ],
 "metadata": {
  "kernelspec": {
   "display_name": "Python 3",
   "language": "python",
   "name": "python3"
  }
 },
 "nbformat": 4,
 "nbformat_minor": 0
}
